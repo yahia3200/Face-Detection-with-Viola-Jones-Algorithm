{
 "cells": [
  {
   "cell_type": "code",
   "execution_count": 1,
   "id": "010297dd",
   "metadata": {},
   "outputs": [],
   "source": [
    "from ViolaJones import *"
   ]
  },
  {
   "cell_type": "code",
   "execution_count": 2,
   "id": "19731d82",
   "metadata": {},
   "outputs": [],
   "source": [
    "import matplotlib.pyplot as plt\n",
    "from skimage.color import rgb2gray\n",
    "import numpy as np\n",
    "import skimage.io as io\n",
    "import random\n",
    "import cv2\n",
    "import os\n",
    "import matplotlib.patches as patches\n",
    "from sklearn.metrics import classification_report\n",
    "from collections import defaultdict"
   ]
  },
  {
   "cell_type": "code",
   "execution_count": 3,
   "id": "bd243258",
   "metadata": {},
   "outputs": [],
   "source": [
    "train_faces_count = 1000\n",
    "train_objects_count = 1000"
   ]
  },
  {
   "cell_type": "code",
   "execution_count": 4,
   "id": "2a14fd7e",
   "metadata": {},
   "outputs": [
    {
     "name": "stderr",
     "output_type": "stream",
     "text": [
      "100%|██████████| 17475/17475 [01:09<00:00, 253.15it/s]"
     ]
    },
    {
     "name": "stdout",
     "output_type": "stream",
     "text": [
      "Loaded 17475 Face Images\n"
     ]
    },
    {
     "name": "stderr",
     "output_type": "stream",
     "text": [
      "\n"
     ]
    }
   ],
   "source": [
    "faces = []\n",
    "files = os.listdir('faces2')\n",
    "\n",
    "for i in tqdm(range(len(files))):\n",
    "    img = io.imread(f\"faces2/{files[i]}\")\n",
    "    if len(img.shape) > 2:\n",
    "        img = rgb2gray(img)\n",
    "    img = cv2.resize(img, (19, 19))\n",
    "    if (img.max() > 1):\n",
    "        img = img / 255\n",
    "    faces.append(img)\n",
    "    \n",
    "print(f'Loaded {len(faces)} Face Images')"
   ]
  },
  {
   "cell_type": "code",
   "execution_count": 5,
   "id": "39a4f3c0",
   "metadata": {},
   "outputs": [
    {
     "name": "stderr",
     "output_type": "stream",
     "text": [
      "100%|██████████| 97/97 [00:31<00:00,  3.09it/s]"
     ]
    },
    {
     "name": "stdout",
     "output_type": "stream",
     "text": [
      "Loaded 7661 Objects Images\n"
     ]
    },
    {
     "name": "stderr",
     "output_type": "stream",
     "text": [
      "\n"
     ]
    }
   ],
   "source": [
    "objects = []\n",
    "folders = os.listdir('objects')\n",
    "\n",
    "for i in tqdm(range(len(folders))):\n",
    "    for file in os.listdir(f\"objects/{folders[i]}\"):\n",
    "        img = io.imread(f\"objects/{folders[i]}/{file}\")\n",
    "        img = cv2.resize(img, (19, 19))\n",
    "        if len(img.shape) > 2:\n",
    "            img = rgb2gray(img)\n",
    "\n",
    "        if (img.max() > 1):\n",
    "            img = img / 255\n",
    "\n",
    "        objects.append(img)\n",
    "       \n",
    "print(f'Loaded {len(objects)} Objects Images')"
   ]
  },
  {
   "cell_type": "code",
   "execution_count": 6,
   "id": "6c96b687",
   "metadata": {},
   "outputs": [
    {
     "name": "stdout",
     "output_type": "stream",
     "text": [
      "2000\n",
      "2000\n"
     ]
    }
   ],
   "source": [
    "X_train = faces[:train_faces_count] + objects[:train_objects_count]\n",
    "y_train = [1] * train_faces_count + [0] * train_objects_count\n",
    "\n",
    "# shuffle data\n",
    "c = list(zip(X_train, y_train))\n",
    "random.shuffle(c)\n",
    "X_train, y_train = zip(*c)\n",
    "print(len(y_train))\n",
    "print(len(X_train))"
   ]
  },
  {
   "cell_type": "code",
   "execution_count": 7,
   "id": "1f36fae5",
   "metadata": {},
   "outputs": [
    {
     "name": "stdout",
     "output_type": "stream",
     "text": [
      "23136\n",
      "23136\n"
     ]
    }
   ],
   "source": [
    "X_test = faces[train_faces_count:] + objects[train_objects_count:]\n",
    "y_test = [1] * (len(faces) - train_faces_count) + [0]  * (len(objects) - train_objects_count)\n",
    "print(len(y_test))\n",
    "print(len(X_test))"
   ]
  },
  {
   "cell_type": "code",
   "execution_count": 8,
   "id": "5939f591",
   "metadata": {},
   "outputs": [
    {
     "name": "stderr",
     "output_type": "stream",
     "text": [
      "100%|██████████| 19/19 [00:00<00:00, 97.44it/s]\n",
      "100%|██████████| 51705/51705 [03:24<00:00, 253.40it/s]\n"
     ]
    }
   ],
   "source": [
    "clf = ViolaJones(X_train, y_train, train_faces_count, train_objects_count)"
   ]
  },
  {
   "cell_type": "code",
   "execution_count": null,
   "id": "1018be83",
   "metadata": {},
   "outputs": [],
   "source": [
    "#clf = ViolaJones.load('V1')"
   ]
  },
  {
   "cell_type": "code",
   "execution_count": 24,
   "id": "875dc075",
   "metadata": {},
   "outputs": [],
   "source": [
    "stages1 = [20]\n",
    "stages2 = [20]\n",
    "stages3 = [30]\n",
    "stages4 = [30]\n",
    "stages5 = [30, 35]\n",
    "stages6 = [40]"
   ]
  },
  {
   "cell_type": "code",
   "execution_count": 25,
   "id": "d77f023e",
   "metadata": {},
   "outputs": [
    {
     "name": "stderr",
     "output_type": "stream",
     "text": [
      "100%|██████████| 20/20 [20:38<00:00, 61.93s/it]\n"
     ]
    }
   ],
   "source": [
    "clf.train(stages2)"
   ]
  },
  {
   "cell_type": "code",
   "execution_count": 11,
   "id": "5660ae9e",
   "metadata": {},
   "outputs": [
    {
     "data": {
      "text/plain": [
       "1"
      ]
     },
     "execution_count": 11,
     "metadata": {},
     "output_type": "execute_result"
    }
   ],
   "source": [
    "len(clf.stages)"
   ]
  },
  {
   "cell_type": "code",
   "execution_count": 26,
   "id": "0d6f3ba6",
   "metadata": {},
   "outputs": [],
   "source": [
    "def evaluate(clf, data):\n",
    "    correct = 0\n",
    "    y_hat = []\n",
    "    for x, y in data:\n",
    "        y_hat.append(clf.classify(x))\n",
    "        correct += 1 if clf.classify(x) == y else 0\n",
    "    print(\"Classified %d out of %d test examples\" % (correct, len(data)))\n",
    "    print(f\"accuracy = {(correct / len(data)) * 100}%\")\n",
    "    return y_hat"
   ]
  },
  {
   "cell_type": "code",
   "execution_count": 27,
   "id": "9b04e637",
   "metadata": {},
   "outputs": [],
   "source": [
    "train_data =  list(zip(X_train, y_train))\n",
    "test_data = list(zip(X_test, y_test))"
   ]
  },
  {
   "cell_type": "code",
   "execution_count": 28,
   "id": "4a71195e",
   "metadata": {},
   "outputs": [
    {
     "name": "stdout",
     "output_type": "stream",
     "text": [
      "Classified 1988 out of 2000 test examples\n",
      "accuracy = 99.4%\n"
     ]
    }
   ],
   "source": [
    "y_hat = evaluate(clf, train_data)"
   ]
  },
  {
   "cell_type": "code",
   "execution_count": 29,
   "id": "a21b29a9",
   "metadata": {},
   "outputs": [
    {
     "data": {
      "text/plain": [
       "{0: 1012, 1: 988}"
      ]
     },
     "execution_count": 29,
     "metadata": {},
     "output_type": "execute_result"
    }
   ],
   "source": [
    "unique, counts = np.unique(y_hat, return_counts=True)\n",
    "dict(zip(unique, counts))"
   ]
  },
  {
   "cell_type": "code",
   "execution_count": 30,
   "id": "52c79f57",
   "metadata": {},
   "outputs": [
    {
     "name": "stdout",
     "output_type": "stream",
     "text": [
      "Classified 19500 out of 23136 test examples\n",
      "accuracy = 84.28423236514523%\n"
     ]
    }
   ],
   "source": [
    "_ = evaluate(clf, test_data)"
   ]
  },
  {
   "cell_type": "code",
   "execution_count": 31,
   "id": "00e48e99",
   "metadata": {},
   "outputs": [
    {
     "name": "stdout",
     "output_type": "stream",
     "text": [
      "              precision    recall  f1-score   support\n",
      "\n",
      "           0       0.65      0.99      0.78      6661\n",
      "           1       1.00      0.78      0.88     16475\n",
      "\n",
      "    accuracy                           0.84     23136\n",
      "   macro avg       0.82      0.89      0.83     23136\n",
      "weighted avg       0.90      0.84      0.85     23136\n",
      "\n"
     ]
    }
   ],
   "source": [
    "print(classification_report(y_test, _))"
   ]
  },
  {
   "cell_type": "code",
   "execution_count": null,
   "id": "f8707012",
   "metadata": {},
   "outputs": [],
   "source": [
    "zeros = {0: 0, 1: 0, 2 : 0}\n",
    "\n",
    "for image in faces:\n",
    "    for i, stage in enumerate(clf.stages):\n",
    "        stage_pred = clf.classify_stage(\n",
    "            image, stage[0], stage[1], False)\n",
    "        if stage_pred == 0:\n",
    "            zeros[i] = zeros[i] + 1\n",
    "zeros"
   ]
  },
  {
   "cell_type": "code",
   "execution_count": 32,
   "id": "3a3d7a0c",
   "metadata": {},
   "outputs": [],
   "source": [
    "clf.save('test_3', True)"
   ]
  },
  {
   "cell_type": "code",
   "execution_count": null,
   "id": "eb1e4a63",
   "metadata": {},
   "outputs": [],
   "source": [
    "all_stages = clf.stages.copy()\n",
    "len(all_stages)"
   ]
  },
  {
   "cell_type": "code",
   "execution_count": null,
   "id": "0dbeba47",
   "metadata": {},
   "outputs": [],
   "source": [
    "#clf.stages = all_stages[:2]\n",
    "clf.stages = all_stages"
   ]
  },
  {
   "cell_type": "code",
   "execution_count": 33,
   "id": "8a2ae7e3",
   "metadata": {},
   "outputs": [],
   "source": [
    "def scan_image(img, clf, window_x, window_y, stride_x, stride_y, scale):\n",
    "    res = []\n",
    "    img = cv2.resize(img, (img.shape[1] // scale, img.shape[0] // scale))\n",
    "    x, y = img.shape\n",
    "    for i in range(0, x - window_x + 1, stride_x):\n",
    "        for j in range(0, y - window_y + 1, stride_y):\n",
    "            temp = img[i : i + window_x, j : j + window_y]\n",
    "            p = clf.classify(temp)\n",
    "            \n",
    "            if p == 1:\n",
    "                res.append((i * scale, j * scale, (i + window_x) * scale, (j + window_y) * scale))\n",
    "    return res"
   ]
  },
  {
   "cell_type": "code",
   "execution_count": 38,
   "id": "b26e2d77",
   "metadata": {},
   "outputs": [],
   "source": [
    "def get_faces(img, clf):\n",
    "    window_x = 19\n",
    "    window_y = 19\n",
    "    stride_x = 3\n",
    "    stride_y = 3\n",
    "    pred = []\n",
    "\n",
    "    gray = cv2.cvtColor(img, cv2.COLOR_BGR2GRAY) / 255\n",
    "    pred = pred + scan_image(gray, clf, window_x, window_y, stride_x, stride_y, 10)\n",
    "\n",
    "    #img = cv2.resize(img, (150, 150))\n",
    "    #window_x = 150 // 6\n",
    "    #window_y = 150 // 5\n",
    "    return pred #scan_image(img, clf, window_x, window_y, stride_x, stride_y, 2) \n"
   ]
  },
  {
   "cell_type": "code",
   "execution_count": 39,
   "id": "e3434c1d",
   "metadata": {},
   "outputs": [],
   "source": [
    "\n",
    "\n",
    "cap = cv2.VideoCapture(0)\n",
    "if not cap.isOpened():\n",
    "    print(\"Cannot open camera\")\n",
    "    exit()\n",
    "while True:\n",
    "    # Capture frame-by-frame\n",
    "    ret, frame = cap.read()\n",
    "    # if frame is read correctly ret is True\n",
    "    if not ret:\n",
    "        print(\"Can't receive frame (stream end?). Exiting ...\")\n",
    "        break\n",
    "\n",
    "    #img = cv2.resize(frame, (300, 300))\n",
    "    img = frame.copy()\n",
    "    faces_out = get_faces(img, clf)\n",
    "    #faces_out = [(200, 100, 200 + 180, 100 + 180)]\n",
    "    for i, j, x, y in faces_out:\n",
    "        cv2.rectangle(img, (j,i), (y, x), (255, 0, 0))\n",
    "\n",
    "    # Display the resulting frame\n",
    "    img = cv2.flip(img, 1)\n",
    "    cv2.imshow('frame', img)\n",
    "    if cv2.waitKey(1) == ord('a'):\n",
    "        test_img = frame.copy()\n",
    "    if cv2.waitKey(1) == ord('q'):\n",
    "        break\n",
    "# When everything done, release the capture\n",
    "cap.release()\n",
    "cv2.destroyAllWindows()"
   ]
  },
  {
   "cell_type": "code",
   "execution_count": null,
   "id": "551227c7",
   "metadata": {},
   "outputs": [],
   "source": [
    "cap.release()\n",
    "cv2.destroyAllWindows()"
   ]
  },
  {
   "cell_type": "code",
   "execution_count": null,
   "id": "ac2d4cea",
   "metadata": {},
   "outputs": [],
   "source": [
    "#220 - 640\n",
    "#19 - x\n",
    "\n",
    "(640 / 220)"
   ]
  },
  {
   "cell_type": "code",
   "execution_count": null,
   "id": "9f2558e0",
   "metadata": {},
   "outputs": [],
   "source": [
    " # Our operations on the frame come here\n",
    "img = cv2.resize(frame, (300, 300))\n",
    "img = img[40:-40, :]\n",
    "gray = cv2.cvtColor(img, cv2.COLOR_BGR2GRAY) / 255\n",
    "faces = get_faces(gray, clf)\n",
    "for i, j in faces:\n",
    "    cv2.rectangle(img, (i,j), (i + 60, j + 80), (255, 0, 0))"
   ]
  }
 ],
 "metadata": {
  "kernelspec": {
   "display_name": "Python 3",
   "language": "python",
   "name": "python3"
  },
  "language_info": {
   "codemirror_mode": {
    "name": "ipython",
    "version": 3
   },
   "file_extension": ".py",
   "mimetype": "text/x-python",
   "name": "python",
   "nbconvert_exporter": "python",
   "pygments_lexer": "ipython3",
   "version": "3.8.8"
  }
 },
 "nbformat": 4,
 "nbformat_minor": 5
}
